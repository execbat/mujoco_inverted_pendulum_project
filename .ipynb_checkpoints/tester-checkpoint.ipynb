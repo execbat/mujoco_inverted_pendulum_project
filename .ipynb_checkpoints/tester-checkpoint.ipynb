{
 "cells": [
  {
   "cell_type": "code",
   "execution_count": 1,
   "id": "5b34882c-7b06-43ed-bcb4-32de04847942",
   "metadata": {},
   "outputs": [],
   "source": [
    "import torch\n",
    "import mujoco\n",
    "# # from inverter_pendulum_gymEnv import InvertedPendulumGymEnv\n",
    "# from inverted_pendulum_env import InvertedPendulumEnv\n",
    "# from guide_test import InvertedPendulumEnv\n",
    "from inv_pendulum_gym_env import InvertedPendulumGymEnv\n",
    "\n",
    "# env = InvertedPendulumEnv()"
   ]
  },
  {
   "cell_type": "code",
   "execution_count": 3,
   "id": "df1926d7-2fe8-464a-a546-7d6d4e89a420",
   "metadata": {},
   "outputs": [
    {
     "data": {
      "text/plain": [
       "(array([0.  , 3.14, 0.  , 0.  ], dtype=float32), {})"
      ]
     },
     "execution_count": 3,
     "metadata": {},
     "output_type": "execute_result"
    }
   ],
   "source": [
    "\n",
    "env = InvertedPendulumGymEnv()\n",
    "env.reset()"
   ]
  },
  {
   "cell_type": "code",
   "execution_count": null,
   "id": "ac9de188-4036-4a0a-8e6b-e2880a5e37ee",
   "metadata": {},
   "outputs": [],
   "source": []
  }
 ],
 "metadata": {
  "kernelspec": {
   "display_name": "Python3.9.18_pytorch_gpu",
   "language": "python",
   "name": "pytorch"
  },
  "language_info": {
   "codemirror_mode": {
    "name": "ipython",
    "version": 3
   },
   "file_extension": ".py",
   "mimetype": "text/x-python",
   "name": "python",
   "nbconvert_exporter": "python",
   "pygments_lexer": "ipython3",
   "version": "3.9.18"
  }
 },
 "nbformat": 4,
 "nbformat_minor": 5
}
